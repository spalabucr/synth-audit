{
 "cells": [
  {
   "cell_type": "code",
   "execution_count": null,
   "id": "increased-duncan",
   "metadata": {},
   "outputs": [],
   "source": [
    "import numpy as np\n",
    "import pandas as pd\n",
    "from plotly import graph_objects as go"
   ]
  },
  {
   "cell_type": "markdown",
   "id": "cultural-folder",
   "metadata": {},
   "source": [
    "# Metric"
   ]
  },
  {
   "cell_type": "code",
   "execution_count": null,
   "id": "informed-planner",
   "metadata": {},
   "outputs": [],
   "source": [
    "metric = \"similarity\"\n",
    "epsilon_range = [0.01, 1000]"
   ]
  },
  {
   "cell_type": "markdown",
   "id": "impossible-washington",
   "metadata": {},
   "source": [
    "# Data"
   ]
  },
  {
   "cell_type": "code",
   "execution_count": null,
   "id": "plain-transportation",
   "metadata": {},
   "outputs": [],
   "source": [
    "data = pd.read_csv(\"data/benchmark_results.csv\")\n",
    "prediction = data.loc[data.exp_idx == \"high_baseline\"][metric].iloc[0]\n",
    "majority = data.loc[data.exp_idx == \"low_baseline\"][metric].iloc[0]"
   ]
  },
  {
   "cell_type": "markdown",
   "id": "seventh-jersey",
   "metadata": {},
   "source": [
    "# Visual"
   ]
  },
  {
   "cell_type": "code",
   "execution_count": null,
   "id": "sweet-satin",
   "metadata": {},
   "outputs": [],
   "source": [
    "colors = {\n",
    "    \"priv_bayes\": (0, 100, 80),\n",
    "    \"synth_pop\": (100, 0, 80),\n",
    "    \"histogram\": (100, 80, 0),\n",
    "    \n",
    "}\n",
    "\n",
    "def get_engine_traces(data, engine, metric):\n",
    "    data = data.loc[(data[\"engine\"] == engine) & (data[\"epsilon\"].between(*epsilon_range))]\n",
    "    avg_data = data.groupby(\"epsilon\").mean().reset_index()\n",
    "    std_data = data.groupby(\"epsilon\").std().reset_index()\n",
    "    \n",
    "    x, y, y_std = list(avg_data.epsilon), avg_data[metric].to_numpy(), std_data[metric].to_numpy()\n",
    "    y_upper, y_lower = np.clip(list(y + y_std), None, 1).tolist(), np.clip(list(y - y_std), 0, None).tolist()\n",
    "    \n",
    "    color = colors[engine]\n",
    "    traces = [\n",
    "        go.Scatter(\n",
    "        x=x,\n",
    "        y=y,\n",
    "        line=dict(color=f'rgb({color[0]},{color[1]},{color[2]})'),\n",
    "        mode='lines',\n",
    "        name=f\"{engine}\"\n",
    "    ),\n",
    "    go.Scatter(\n",
    "        x=x+x[::-1], # x, then x reversed\n",
    "        y=y_upper+y_lower[::-1], # upper, then lower reversed\n",
    "        fill='toself',\n",
    "        fillcolor=f'rgba({color[0]},{color[1]},{color[2]},0.2)',\n",
    "        line=dict(color='rgba(255,255,255,0)'),\n",
    "        hoverinfo=\"skip\",\n",
    "        showlegend=False\n",
    "    )]\n",
    "    \n",
    "    return traces"
   ]
  },
  {
   "cell_type": "code",
   "execution_count": null,
   "id": "sunrise-marks",
   "metadata": {},
   "outputs": [],
   "source": [
    "traces = [    ]\n",
    "titles = {\n",
    "    \"similarity\": \"mean marginal similarity\"\n",
    "}\n",
    "\n",
    "for engine in data.engine.dropna().unique():\n",
    "    traces += get_engine_traces(data, engine, metric)\n",
    "    \n",
    "if pd.notnull(prediction):\n",
    "    traces += [    \n",
    "    go.Scatter(\n",
    "        x=[data.loc[data.epsilon >= epsilon_range[0]].epsilon.min(), data.loc[data.epsilon <= epsilon_range[1]].epsilon.max()],\n",
    "        y=[prediction, prediction],\n",
    "        mode='lines',\n",
    "        line=dict(dash='dash', color=\"red\"),\n",
    "        name=f\"predictive baseline\"\n",
    "    )]\n",
    "    \n",
    "if pd.notnull(majority):\n",
    "    traces += [    \n",
    "        go.Scatter(\n",
    "            x=[data.loc[data.epsilon >= epsilon_range[0]].epsilon.min(), data.loc[data.epsilon <= epsilon_range[1]].epsilon.max()],\n",
    "            y=[majority, majority],\n",
    "            mode='lines',\n",
    "            line=dict(dash='dash', color=\"lightskyblue\"),\n",
    "            name=f\"majority baseline\"\n",
    "        )]\n",
    "\n",
    "fig = go.Figure(traces)\n",
    "\n",
    "fig.update_xaxes(type=\"log\")\n",
    "fig.update_layout(\n",
    "    xaxis_title=\"epsilon\",\n",
    "    yaxis_title=titles.get(metric, metric),\n",
    "    legend=dict(\n",
    "        yanchor=\"top\",\n",
    "        y=0.3,\n",
    "        xanchor=\"left\",\n",
    "        x=0.85\n",
    "    )\n",
    ")\n",
    "\n",
    "\n",
    "fig.show()"
   ]
  },
  {
   "cell_type": "markdown",
   "id": "painted-residence",
   "metadata": {},
   "source": [
    "# Performance"
   ]
  },
  {
   "cell_type": "code",
   "execution_count": null,
   "id": "outer-palestinian",
   "metadata": {},
   "outputs": [],
   "source": [
    "perf_data = pd.read_csv(\"data/speed_results.csv\")"
   ]
  },
  {
   "cell_type": "markdown",
   "id": "polar-southwest",
   "metadata": {},
   "source": [
    "## Mean"
   ]
  },
  {
   "cell_type": "code",
   "execution_count": null,
   "id": "overhead-jenny",
   "metadata": {},
   "outputs": [],
   "source": [
    "mean = perf_data.groupby(\"baseline\")[[\"train\", \"gen\"]].mean()\n",
    "mean.loc[\"speed_up\"] = mean.loc[\"DataSynthesizer\"] / mean.loc[\"DPART\"]\n",
    "mean.head()"
   ]
  },
  {
   "cell_type": "code",
   "execution_count": null,
   "id": "undefined-pavilion",
   "metadata": {},
   "outputs": [],
   "source": []
  }
 ],
 "metadata": {
  "kernelspec": {
   "display_name": "hazy",
   "language": "python",
   "name": "hazy"
  },
  "language_info": {
   "codemirror_mode": {
    "name": "ipython",
    "version": 3
   },
   "file_extension": ".py",
   "mimetype": "text/x-python",
   "name": "python",
   "nbconvert_exporter": "python",
   "pygments_lexer": "ipython3",
   "version": "3.8.9"
  }
 },
 "nbformat": 4,
 "nbformat_minor": 5
}
