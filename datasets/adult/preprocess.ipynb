{
 "cells": [
  {
   "cell_type": "code",
   "execution_count": null,
   "metadata": {},
   "outputs": [],
   "source": [
    "import pandas as pd\n",
    "df = pd.read_csv('adult.csv', na_values='?')\n",
    "df"
   ]
  },
  {
   "cell_type": "code",
   "execution_count": null,
   "metadata": {},
   "outputs": [],
   "source": [
    "df_cat = df.dropna()\n",
    "\n",
    "# bin `age` and `hours-per-week` to nearest 10\n",
    "df_cat['age'] = df_cat['age'].apply(lambda x: round(x / 10) * 10)\n",
    "df_cat['hours-per-week'] = df_cat['hours-per-week'].apply(lambda x: round(x / 10) * 10)\n",
    "\n",
    "# remove `educational-num` repeated in `education`, `fnlwgt` is a quasi-id, `capital-gain` & `capital-loss` are continuous cols\n",
    "remove_cols = ['fnlwgt', 'educational-num', 'capital-gain', 'capital-loss']\n",
    "cols_of_interest = [col for col in list(df.columns) if col not in remove_cols]\n",
    "\n",
    "df_cat = df_cat[cols_of_interest]\n",
    "df_cat.to_csv('adult_cat.csv', index=False)\n",
    "\n",
    "df_cat"
   ]
  },
  {
   "cell_type": "markdown",
   "metadata": {},
   "source": [
    "## Extract metadata"
   ]
  },
  {
   "cell_type": "code",
   "execution_count": null,
   "metadata": {},
   "outputs": [],
   "source": [
    "# sys path hack\n",
    "import sys; sys.path.insert(0, '../..')\n",
    "from audit.utils import conv_to_cat\n",
    "import json\n",
    "\n",
    "def get_metadata(df):\n",
    "    df = conv_to_cat(df)\n",
    "    return {\n",
    "        'columns': [\n",
    "            {\n",
    "                'name': col,\n",
    "                'type': 'Categorical',\n",
    "                'i2s': list(df[col].unique())\n",
    "            }\n",
    "            for col in df.columns\n",
    "        ]\n",
    "    }\n",
    "\n",
    "metadata = get_metadata(df_cat)\n",
    "\n",
    "with open('adult_cat.json', 'w') as f:\n",
    "    json.dump(metadata, f)\n",
    "\n",
    "metadata"
   ]
  },
  {
   "cell_type": "markdown",
   "metadata": {},
   "source": [
    "## Calculate vulnerabilities of each record"
   ]
  },
  {
   "cell_type": "code",
   "execution_count": null,
   "metadata": {},
   "outputs": [],
   "source": [
    "import numpy as np\n",
    "# sys path hack\n",
    "import sys; sys.path.insert(0, '../..')\n",
    "from attacks.utils import get_vuln\n",
    "\n",
    "# pre-calculate unique values for each column\n",
    "full_uniq_vals = {}\n",
    "for col in df_cat.columns:\n",
    "    full_uniq_vals[col] = df_cat[col].unique().tolist()\n",
    "\n",
    "vulns = get_vuln(df_cat, full_uniq_vals, show_progress=True)\n",
    "np.savetxt('vulns.txt', vulns)\n",
    "vulns"
   ]
  },
  {
   "cell_type": "code",
   "execution_count": null,
   "metadata": {},
   "outputs": [],
   "source": []
  }
 ],
 "metadata": {
  "kernelspec": {
   "display_name": "synth-attack",
   "language": "python",
   "name": "python3"
  },
  "language_info": {
   "codemirror_mode": {
    "name": "ipython",
    "version": 3
   },
   "file_extension": ".py",
   "mimetype": "text/x-python",
   "name": "python",
   "nbconvert_exporter": "python",
   "pygments_lexer": "ipython3",
   "version": "3.9.17"
  },
  "orig_nbformat": 4
 },
 "nbformat": 4,
 "nbformat_minor": 2
}
